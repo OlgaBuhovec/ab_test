{
 "cells": [
  {
   "cell_type": "markdown",
   "id": "dad3a3b1",
   "metadata": {},
   "source": [
    "Буховец Ольга"
   ]
  },
  {
   "cell_type": "markdown",
   "id": "abe0d2d5",
   "metadata": {},
   "source": [
    "ab_test_results_aggregated_views_clicks_6.csv.zip"
   ]
  },
  {
   "cell_type": "code",
   "execution_count": 7,
   "id": "81bdc1d0",
   "metadata": {},
   "outputs": [],
   "source": [
    "import numpy as np\n",
    "import pandas as pd\n",
    "from scipy.stats import mannwhitneyu\n",
    "from scipy.stats import ttest_ind\n",
    "from scipy.stats import norm\n",
    "import matplotlib.pyplot as plt\n",
    "import seaborn as sns\n",
    "from tqdm.auto import tqdm\n",
    "import seaborn as sns\n",
    "from scipy.stats import pearsonr\n",
    "from scipy.stats import shapiro\n",
    "import os\n",
    "import scipy.stats as stats\n",
    "\n",
    "import warnings\n",
    "warnings.filterwarnings(\"ignore\")\n",
    "warnings.simplefilter(action='ignore', category=FutureWarning)\n",
    "\n",
    "pd.set_option('display.max_columns', None)\n",
    "pd.options.display.float_format = '{:.4f}'.format"
   ]
  },
  {
   "cell_type": "code",
   "execution_count": 8,
   "id": "d3d0ee4f",
   "metadata": {},
   "outputs": [],
   "source": [
    "ab = pd.read_csv('ab_test_results_aggregated_views_clicks_6.csv.zip')"
   ]
  },
  {
   "cell_type": "code",
   "execution_count": 9,
   "id": "bd193058",
   "metadata": {},
   "outputs": [
    {
     "data": {
      "text/html": [
       "<div>\n",
       "<style scoped>\n",
       "    .dataframe tbody tr th:only-of-type {\n",
       "        vertical-align: middle;\n",
       "    }\n",
       "\n",
       "    .dataframe tbody tr th {\n",
       "        vertical-align: top;\n",
       "    }\n",
       "\n",
       "    .dataframe thead th {\n",
       "        text-align: right;\n",
       "    }\n",
       "</style>\n",
       "<table border=\"1\" class=\"dataframe\">\n",
       "  <thead>\n",
       "    <tr style=\"text-align: right;\">\n",
       "      <th></th>\n",
       "      <th>user_id</th>\n",
       "      <th>group</th>\n",
       "      <th>views</th>\n",
       "      <th>clicks</th>\n",
       "    </tr>\n",
       "  </thead>\n",
       "  <tbody>\n",
       "    <tr>\n",
       "      <th>0</th>\n",
       "      <td>1</td>\n",
       "      <td>control</td>\n",
       "      <td>3.0000</td>\n",
       "      <td>0.0000</td>\n",
       "    </tr>\n",
       "    <tr>\n",
       "      <th>1</th>\n",
       "      <td>2</td>\n",
       "      <td>control</td>\n",
       "      <td>1.0000</td>\n",
       "      <td>0.0000</td>\n",
       "    </tr>\n",
       "    <tr>\n",
       "      <th>2</th>\n",
       "      <td>3</td>\n",
       "      <td>control</td>\n",
       "      <td>3.0000</td>\n",
       "      <td>1.0000</td>\n",
       "    </tr>\n",
       "    <tr>\n",
       "      <th>3</th>\n",
       "      <td>4</td>\n",
       "      <td>control</td>\n",
       "      <td>5.0000</td>\n",
       "      <td>0.0000</td>\n",
       "    </tr>\n",
       "    <tr>\n",
       "      <th>4</th>\n",
       "      <td>5</td>\n",
       "      <td>control</td>\n",
       "      <td>2.0000</td>\n",
       "      <td>0.0000</td>\n",
       "    </tr>\n",
       "  </tbody>\n",
       "</table>\n",
       "</div>"
      ],
      "text/plain": [
       "   user_id    group  views  clicks\n",
       "0        1  control 3.0000  0.0000\n",
       "1        2  control 1.0000  0.0000\n",
       "2        3  control 3.0000  1.0000\n",
       "3        4  control 5.0000  0.0000\n",
       "4        5  control 2.0000  0.0000"
      ]
     },
     "execution_count": 9,
     "metadata": {},
     "output_type": "execute_result"
    }
   ],
   "source": [
    "ab.head ()"
   ]
  },
  {
   "cell_type": "code",
   "execution_count": 10,
   "id": "5d16ca5e",
   "metadata": {},
   "outputs": [
    {
     "name": "stdout",
     "output_type": "stream",
     "text": [
      "<class 'pandas.core.frame.DataFrame'>\n",
      "RangeIndex: 80000 entries, 0 to 79999\n",
      "Data columns (total 4 columns):\n",
      " #   Column   Non-Null Count  Dtype  \n",
      "---  ------   --------------  -----  \n",
      " 0   user_id  80000 non-null  int64  \n",
      " 1   group    80000 non-null  object \n",
      " 2   views    80000 non-null  float64\n",
      " 3   clicks   80000 non-null  float64\n",
      "dtypes: float64(2), int64(1), object(1)\n",
      "memory usage: 2.1+ MB\n"
     ]
    }
   ],
   "source": [
    "ab.info()"
   ]
  },
  {
   "cell_type": "code",
   "execution_count": 11,
   "id": "14e3726a",
   "metadata": {},
   "outputs": [
    {
     "data": {
      "text/plain": [
       "user_id    80000\n",
       "group          2\n",
       "views        101\n",
       "clicks        18\n",
       "dtype: int64"
      ]
     },
     "execution_count": 11,
     "metadata": {},
     "output_type": "execute_result"
    }
   ],
   "source": [
    "# посмотрим количество уникальных значений\n",
    "ab.nunique()"
   ]
  },
  {
   "cell_type": "code",
   "execution_count": 12,
   "id": "81a4d9a0",
   "metadata": {},
   "outputs": [
    {
     "data": {
      "text/plain": [
       "array(['control', 'test'], dtype=object)"
      ]
     },
     "execution_count": 12,
     "metadata": {},
     "output_type": "execute_result"
    }
   ],
   "source": [
    "ab.group.unique()"
   ]
  },
  {
   "cell_type": "code",
   "execution_count": 13,
   "id": "78a17ca5",
   "metadata": {},
   "outputs": [],
   "source": [
    "ab['ctr']=ab.clicks/ab.views*100"
   ]
  },
  {
   "cell_type": "code",
   "execution_count": 14,
   "id": "479fd2ff",
   "metadata": {},
   "outputs": [
    {
     "data": {
      "text/html": [
       "<div>\n",
       "<style scoped>\n",
       "    .dataframe tbody tr th:only-of-type {\n",
       "        vertical-align: middle;\n",
       "    }\n",
       "\n",
       "    .dataframe tbody tr th {\n",
       "        vertical-align: top;\n",
       "    }\n",
       "\n",
       "    .dataframe thead th {\n",
       "        text-align: right;\n",
       "    }\n",
       "</style>\n",
       "<table border=\"1\" class=\"dataframe\">\n",
       "  <thead>\n",
       "    <tr style=\"text-align: right;\">\n",
       "      <th></th>\n",
       "      <th>user_id</th>\n",
       "      <th>group</th>\n",
       "      <th>views</th>\n",
       "      <th>clicks</th>\n",
       "      <th>ctr</th>\n",
       "    </tr>\n",
       "  </thead>\n",
       "  <tbody>\n",
       "    <tr>\n",
       "      <th>0</th>\n",
       "      <td>1</td>\n",
       "      <td>control</td>\n",
       "      <td>3.0000</td>\n",
       "      <td>0.0000</td>\n",
       "      <td>0.0000</td>\n",
       "    </tr>\n",
       "    <tr>\n",
       "      <th>1</th>\n",
       "      <td>2</td>\n",
       "      <td>control</td>\n",
       "      <td>1.0000</td>\n",
       "      <td>0.0000</td>\n",
       "      <td>0.0000</td>\n",
       "    </tr>\n",
       "    <tr>\n",
       "      <th>2</th>\n",
       "      <td>3</td>\n",
       "      <td>control</td>\n",
       "      <td>3.0000</td>\n",
       "      <td>1.0000</td>\n",
       "      <td>33.3333</td>\n",
       "    </tr>\n",
       "    <tr>\n",
       "      <th>3</th>\n",
       "      <td>4</td>\n",
       "      <td>control</td>\n",
       "      <td>5.0000</td>\n",
       "      <td>0.0000</td>\n",
       "      <td>0.0000</td>\n",
       "    </tr>\n",
       "    <tr>\n",
       "      <th>4</th>\n",
       "      <td>5</td>\n",
       "      <td>control</td>\n",
       "      <td>2.0000</td>\n",
       "      <td>0.0000</td>\n",
       "      <td>0.0000</td>\n",
       "    </tr>\n",
       "    <tr>\n",
       "      <th>...</th>\n",
       "      <td>...</td>\n",
       "      <td>...</td>\n",
       "      <td>...</td>\n",
       "      <td>...</td>\n",
       "      <td>...</td>\n",
       "    </tr>\n",
       "    <tr>\n",
       "      <th>79995</th>\n",
       "      <td>79996</td>\n",
       "      <td>test</td>\n",
       "      <td>4.0000</td>\n",
       "      <td>0.0000</td>\n",
       "      <td>0.0000</td>\n",
       "    </tr>\n",
       "    <tr>\n",
       "      <th>79996</th>\n",
       "      <td>79997</td>\n",
       "      <td>test</td>\n",
       "      <td>2.0000</td>\n",
       "      <td>0.0000</td>\n",
       "      <td>0.0000</td>\n",
       "    </tr>\n",
       "    <tr>\n",
       "      <th>79997</th>\n",
       "      <td>79998</td>\n",
       "      <td>test</td>\n",
       "      <td>13.0000</td>\n",
       "      <td>1.0000</td>\n",
       "      <td>7.6923</td>\n",
       "    </tr>\n",
       "    <tr>\n",
       "      <th>79998</th>\n",
       "      <td>79999</td>\n",
       "      <td>test</td>\n",
       "      <td>2.0000</td>\n",
       "      <td>0.0000</td>\n",
       "      <td>0.0000</td>\n",
       "    </tr>\n",
       "    <tr>\n",
       "      <th>79999</th>\n",
       "      <td>80000</td>\n",
       "      <td>test</td>\n",
       "      <td>1.0000</td>\n",
       "      <td>0.0000</td>\n",
       "      <td>0.0000</td>\n",
       "    </tr>\n",
       "  </tbody>\n",
       "</table>\n",
       "<p>80000 rows × 5 columns</p>\n",
       "</div>"
      ],
      "text/plain": [
       "       user_id    group   views  clicks     ctr\n",
       "0            1  control  3.0000  0.0000  0.0000\n",
       "1            2  control  1.0000  0.0000  0.0000\n",
       "2            3  control  3.0000  1.0000 33.3333\n",
       "3            4  control  5.0000  0.0000  0.0000\n",
       "4            5  control  2.0000  0.0000  0.0000\n",
       "...        ...      ...     ...     ...     ...\n",
       "79995    79996     test  4.0000  0.0000  0.0000\n",
       "79996    79997     test  2.0000  0.0000  0.0000\n",
       "79997    79998     test 13.0000  1.0000  7.6923\n",
       "79998    79999     test  2.0000  0.0000  0.0000\n",
       "79999    80000     test  1.0000  0.0000  0.0000\n",
       "\n",
       "[80000 rows x 5 columns]"
      ]
     },
     "execution_count": 14,
     "metadata": {},
     "output_type": "execute_result"
    }
   ],
   "source": [
    "ab"
   ]
  },
  {
   "cell_type": "code",
   "execution_count": 15,
   "id": "f5fb77e5",
   "metadata": {},
   "outputs": [
    {
     "data": {
      "text/plain": [
       "count   80000.0000\n",
       "mean        7.4765\n",
       "std        16.6210\n",
       "min         0.0000\n",
       "25%         0.0000\n",
       "50%         0.0000\n",
       "75%         7.6923\n",
       "max       100.0000\n",
       "Name: ctr, dtype: float64"
      ]
     },
     "execution_count": 15,
     "metadata": {},
     "output_type": "execute_result"
    }
   ],
   "source": [
    "ab.ctr.describe ()"
   ]
  },
  {
   "cell_type": "code",
   "execution_count": 16,
   "id": "19da1021",
   "metadata": {},
   "outputs": [
    {
     "data": {
      "text/plain": [
       "user_id    0\n",
       "group      0\n",
       "views      0\n",
       "clicks     0\n",
       "ctr        0\n",
       "dtype: int64"
      ]
     },
     "execution_count": 16,
     "metadata": {},
     "output_type": "execute_result"
    }
   ],
   "source": [
    "ab.isna().sum()"
   ]
  },
  {
   "cell_type": "code",
   "execution_count": 17,
   "id": "52b5450b",
   "metadata": {},
   "outputs": [
    {
     "data": {
      "text/plain": [
       "0.0000     57979\n",
       "33.3333     2857\n",
       "50.0000     2706\n",
       "25.0000     2370\n",
       "20.0000     1991\n",
       "           ...  \n",
       "55.5556        1\n",
       "10.1449        1\n",
       "19.4444        1\n",
       "1.9608         1\n",
       "7.2464         1\n",
       "Name: ctr, Length: 242, dtype: int64"
      ]
     },
     "execution_count": 17,
     "metadata": {},
     "output_type": "execute_result"
    }
   ],
   "source": [
    "ab.ctr.value_counts ()"
   ]
  },
  {
   "cell_type": "code",
   "execution_count": 18,
   "id": "fa913aff",
   "metadata": {},
   "outputs": [
    {
     "data": {
      "image/png": "[encoded data removed]",
      "text/plain": [
       "<Figure size 432x288 with 1 Axes>"
      ]
     },
     "metadata": {
      "needs_background": "light"
     },
     "output_type": "display_data"
    }
   ],
   "source": [
    "sns_plot = sns.distplot(ab['ctr'])\n",
    "fig = sns_plot.get_figure()"
   ]
  },
  {
   "cell_type": "code",
   "execution_count": 19,
   "id": "6c1a8c71",
   "metadata": {},
   "outputs": [
    {
     "data": {
      "text/html": [
       "<div>\n",
       "<style scoped>\n",
       "    .dataframe tbody tr th:only-of-type {\n",
       "        vertical-align: middle;\n",
       "    }\n",
       "\n",
       "    .dataframe tbody tr th {\n",
       "        vertical-align: top;\n",
       "    }\n",
       "\n",
       "    .dataframe thead th {\n",
       "        text-align: right;\n",
       "    }\n",
       "</style>\n",
       "<table border=\"1\" class=\"dataframe\">\n",
       "  <thead>\n",
       "    <tr style=\"text-align: right;\">\n",
       "      <th></th>\n",
       "      <th>user_id</th>\n",
       "      <th>group</th>\n",
       "      <th>views</th>\n",
       "      <th>clicks</th>\n",
       "      <th>ctr</th>\n",
       "    </tr>\n",
       "  </thead>\n",
       "  <tbody>\n",
       "    <tr>\n",
       "      <th>51201</th>\n",
       "      <td>51202</td>\n",
       "      <td>test</td>\n",
       "      <td>1.0000</td>\n",
       "      <td>1.0000</td>\n",
       "      <td>100.0000</td>\n",
       "    </tr>\n",
       "    <tr>\n",
       "      <th>54752</th>\n",
       "      <td>54753</td>\n",
       "      <td>test</td>\n",
       "      <td>1.0000</td>\n",
       "      <td>1.0000</td>\n",
       "      <td>100.0000</td>\n",
       "    </tr>\n",
       "    <tr>\n",
       "      <th>73575</th>\n",
       "      <td>73576</td>\n",
       "      <td>test</td>\n",
       "      <td>2.0000</td>\n",
       "      <td>2.0000</td>\n",
       "      <td>100.0000</td>\n",
       "    </tr>\n",
       "    <tr>\n",
       "      <th>65075</th>\n",
       "      <td>65076</td>\n",
       "      <td>test</td>\n",
       "      <td>1.0000</td>\n",
       "      <td>1.0000</td>\n",
       "      <td>100.0000</td>\n",
       "    </tr>\n",
       "    <tr>\n",
       "      <th>37435</th>\n",
       "      <td>37436</td>\n",
       "      <td>control</td>\n",
       "      <td>1.0000</td>\n",
       "      <td>1.0000</td>\n",
       "      <td>100.0000</td>\n",
       "    </tr>\n",
       "    <tr>\n",
       "      <th>25397</th>\n",
       "      <td>25398</td>\n",
       "      <td>control</td>\n",
       "      <td>1.0000</td>\n",
       "      <td>1.0000</td>\n",
       "      <td>100.0000</td>\n",
       "    </tr>\n",
       "    <tr>\n",
       "      <th>20240</th>\n",
       "      <td>20241</td>\n",
       "      <td>control</td>\n",
       "      <td>1.0000</td>\n",
       "      <td>1.0000</td>\n",
       "      <td>100.0000</td>\n",
       "    </tr>\n",
       "    <tr>\n",
       "      <th>6291</th>\n",
       "      <td>6292</td>\n",
       "      <td>control</td>\n",
       "      <td>1.0000</td>\n",
       "      <td>1.0000</td>\n",
       "      <td>100.0000</td>\n",
       "    </tr>\n",
       "    <tr>\n",
       "      <th>22846</th>\n",
       "      <td>22847</td>\n",
       "      <td>control</td>\n",
       "      <td>1.0000</td>\n",
       "      <td>1.0000</td>\n",
       "      <td>100.0000</td>\n",
       "    </tr>\n",
       "    <tr>\n",
       "      <th>59390</th>\n",
       "      <td>59391</td>\n",
       "      <td>test</td>\n",
       "      <td>1.0000</td>\n",
       "      <td>1.0000</td>\n",
       "      <td>100.0000</td>\n",
       "    </tr>\n",
       "    <tr>\n",
       "      <th>20231</th>\n",
       "      <td>20232</td>\n",
       "      <td>control</td>\n",
       "      <td>2.0000</td>\n",
       "      <td>2.0000</td>\n",
       "      <td>100.0000</td>\n",
       "    </tr>\n",
       "    <tr>\n",
       "      <th>75332</th>\n",
       "      <td>75333</td>\n",
       "      <td>test</td>\n",
       "      <td>1.0000</td>\n",
       "      <td>1.0000</td>\n",
       "      <td>100.0000</td>\n",
       "    </tr>\n",
       "    <tr>\n",
       "      <th>63133</th>\n",
       "      <td>63134</td>\n",
       "      <td>test</td>\n",
       "      <td>1.0000</td>\n",
       "      <td>1.0000</td>\n",
       "      <td>100.0000</td>\n",
       "    </tr>\n",
       "    <tr>\n",
       "      <th>10819</th>\n",
       "      <td>10820</td>\n",
       "      <td>control</td>\n",
       "      <td>1.0000</td>\n",
       "      <td>1.0000</td>\n",
       "      <td>100.0000</td>\n",
       "    </tr>\n",
       "    <tr>\n",
       "      <th>70630</th>\n",
       "      <td>70631</td>\n",
       "      <td>test</td>\n",
       "      <td>2.0000</td>\n",
       "      <td>2.0000</td>\n",
       "      <td>100.0000</td>\n",
       "    </tr>\n",
       "  </tbody>\n",
       "</table>\n",
       "</div>"
      ],
      "text/plain": [
       "       user_id    group  views  clicks      ctr\n",
       "51201    51202     test 1.0000  1.0000 100.0000\n",
       "54752    54753     test 1.0000  1.0000 100.0000\n",
       "73575    73576     test 2.0000  2.0000 100.0000\n",
       "65075    65076     test 1.0000  1.0000 100.0000\n",
       "37435    37436  control 1.0000  1.0000 100.0000\n",
       "25397    25398  control 1.0000  1.0000 100.0000\n",
       "20240    20241  control 1.0000  1.0000 100.0000\n",
       "6291      6292  control 1.0000  1.0000 100.0000\n",
       "22846    22847  control 1.0000  1.0000 100.0000\n",
       "59390    59391     test 1.0000  1.0000 100.0000\n",
       "20231    20232  control 2.0000  2.0000 100.0000\n",
       "75332    75333     test 1.0000  1.0000 100.0000\n",
       "63133    63134     test 1.0000  1.0000 100.0000\n",
       "10819    10820  control 1.0000  1.0000 100.0000\n",
       "70630    70631     test 2.0000  2.0000 100.0000"
      ]
     },
     "execution_count": 19,
     "metadata": {},
     "output_type": "execute_result"
    }
   ],
   "source": [
    "ab.sort_values(by='ctr', ascending = False).iloc[:15]"
   ]
  },
  {
   "cell_type": "code",
   "execution_count": 20,
   "id": "88a538cd",
   "metadata": {},
   "outputs": [
    {
     "data": {
      "text/html": [
       "<div>\n",
       "<style scoped>\n",
       "    .dataframe tbody tr th:only-of-type {\n",
       "        vertical-align: middle;\n",
       "    }\n",
       "\n",
       "    .dataframe tbody tr th {\n",
       "        vertical-align: top;\n",
       "    }\n",
       "\n",
       "    .dataframe thead tr th {\n",
       "        text-align: left;\n",
       "    }\n",
       "\n",
       "    .dataframe thead tr:last-of-type th {\n",
       "        text-align: right;\n",
       "    }\n",
       "</style>\n",
       "<table border=\"1\" class=\"dataframe\">\n",
       "  <thead>\n",
       "    <tr>\n",
       "      <th></th>\n",
       "      <th>user_id</th>\n",
       "      <th colspan=\"3\" halign=\"left\">ctr</th>\n",
       "    </tr>\n",
       "    <tr>\n",
       "      <th></th>\n",
       "      <th>nunique</th>\n",
       "      <th>mean</th>\n",
       "      <th>median</th>\n",
       "      <th>count</th>\n",
       "    </tr>\n",
       "    <tr>\n",
       "      <th>group</th>\n",
       "      <th></th>\n",
       "      <th></th>\n",
       "      <th></th>\n",
       "      <th></th>\n",
       "    </tr>\n",
       "  </thead>\n",
       "  <tbody>\n",
       "    <tr>\n",
       "      <th>control</th>\n",
       "      <td>40000</td>\n",
       "      <td>6.9166</td>\n",
       "      <td>0.0000</td>\n",
       "      <td>40000</td>\n",
       "    </tr>\n",
       "    <tr>\n",
       "      <th>test</th>\n",
       "      <td>40000</td>\n",
       "      <td>8.0363</td>\n",
       "      <td>0.0000</td>\n",
       "      <td>40000</td>\n",
       "    </tr>\n",
       "  </tbody>\n",
       "</table>\n",
       "</div>"
      ],
      "text/plain": [
       "        user_id    ctr              \n",
       "        nunique   mean median  count\n",
       "group                               \n",
       "control   40000 6.9166 0.0000  40000\n",
       "test      40000 8.0363 0.0000  40000"
      ]
     },
     "execution_count": 20,
     "metadata": {},
     "output_type": "execute_result"
    }
   ],
   "source": [
    "all_stat = ab.groupby(by = 'group').agg({'user_id': 'nunique', 'ctr': ['mean', 'median', 'count']})\n",
    "all_stat"
   ]
  },
  {
   "cell_type": "markdown",
   "id": "2e91c2ce",
   "metadata": {},
   "source": [
    "# Т.к. распределение не нормальное, то используем тест Манна-Уитни"
   ]
  },
  {
   "cell_type": "code",
   "execution_count": 21,
   "id": "4bf1a06e",
   "metadata": {},
   "outputs": [
    {
     "data": {
      "text/plain": [
       "MannwhitneyuResult(statistic=772911297.0, pvalue=1.0938834046391723e-16)"
      ]
     },
     "execution_count": 21,
     "metadata": {},
     "output_type": "execute_result"
    }
   ],
   "source": [
    "mannwhitneyu(ab.loc[ab.group == 'control', 'ctr'], ab.loc[ab.group == 'test', 'ctr'])"
   ]
  },
  {
   "cell_type": "markdown",
   "id": "04a283a0",
   "metadata": {},
   "source": [
    "# Вывод: Различия в группах есть. Принимаем альтернативную гипотезу. Тестируемые изменения привели к изменеию значения ctr"
   ]
  },
  {
   "cell_type": "code",
   "execution_count": null,
   "id": "c1cd56e7",
   "metadata": {},
   "outputs": [],
   "source": []
  }
 ],
 "metadata": {
  "kernelspec": {
   "display_name": "Python 3 (ipykernel)",
   "language": "python",
   "name": "python3"
  },
  "language_info": {
   "codemirror_mode": {
    "name": "ipython",
    "version": 3
   },
   "file_extension": ".py",
   "mimetype": "text/x-python",
   "name": "python",
   "nbconvert_exporter": "python",
   "pygments_lexer": "ipython3",
   "version": "3.9.12"
  }
 },
 "nbformat": 4,
 "nbformat_minor": 5
}
